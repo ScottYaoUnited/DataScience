{
 "cells": [
  {
   "cell_type": "markdown",
   "id": "8ce4424d-0683-49f6-a304-2a6c7548baa4",
   "metadata": {},
   "source": [
    "# Data Science Tools and Ecosystem "
   ]
  },
  {
   "cell_type": "markdown",
   "id": "64173026-55f4-476b-a8e9-f4b6245a6aad",
   "metadata": {},
   "source": [
    "##### In this notebook, Data Science Tools and Ecosystem are summarized."
   ]
  },
  {
   "cell_type": "markdown",
   "id": "3c530b1b-1acc-4374-bbf9-7f49fab8cee3",
   "metadata": {},
   "source": [
    "Some of the popular languages that Data Scientists use are:\n",
    "1. Python\n",
    "2. JavaScript\n",
    "3. SQL\n",
    "4. C/C++"
   ]
  },
  {
   "cell_type": "markdown",
   "id": "998b418c-918c-44ed-ac98-bbf9922874cb",
   "metadata": {},
   "source": [
    "#### Some of the commonly used libraries used by Data Scientists include\n",
    "1. NumPy\n",
    "2. Pandas\n",
    "3. Matplotlib\n",
    "4. TensorFlow/PyTorch"
   ]
  },
  {
   "cell_type": "markdown",
   "id": "3e312e37-9472-4a23-8a6b-a6fe2728fff4",
   "metadata": {},
   "source": [
    "|Data Science Tools|\n",
    "|-----------------|\n",
    "|VS Code|\n",
    "|Jupter Notebook/lab|\n",
    "|RStusio|"
   ]
  },
  {
   "cell_type": "markdown",
   "id": "c4464726-894a-414e-a888-f054b19a19c0",
   "metadata": {},
   "source": [
    " ### Below are a few examples of evaluating arithmetic expressions in Python.\n",
    " - 1+3\n",
    " - 2*7\n",
    " - 8/4"
   ]
  },
  {
   "cell_type": "code",
   "execution_count": 4,
   "id": "15a08d34-a824-4ec3-8c88-9f6f21e3c9d2",
   "metadata": {},
   "outputs": [
    {
     "data": {
      "text/plain": [
       "17"
      ]
     },
     "execution_count": 4,
     "metadata": {},
     "output_type": "execute_result"
    }
   ],
   "source": [
    "# This a simple arithmetic expression to mutiply then add integers.\n",
    "(3*4)+5"
   ]
  },
  {
   "cell_type": "code",
   "execution_count": 6,
   "id": "e81530d2-0b12-424c-8dbd-cb5d482a5cbf",
   "metadata": {},
   "outputs": [
    {
     "data": {
      "text/plain": [
       "3.3333333333333335"
      ]
     },
     "execution_count": 6,
     "metadata": {},
     "output_type": "execute_result"
    }
   ],
   "source": [
    "# will convert 200 minutes to hours by diving by 60\n",
    "200/60 "
   ]
  },
  {
   "cell_type": "markdown",
   "id": "2f100af2-e9e9-4aeb-a0cf-73e8e4712900",
   "metadata": {},
   "source": [
    "**Objectives**\n",
    "- Languages of Data Science\n",
    "- RStudio\n",
    "- Jupyter Notebook\n"
   ]
  },
  {
   "cell_type": "markdown",
   "id": "715308a0-966a-43dd-ac11-0bfb568b90bc",
   "metadata": {},
   "source": [
    "## Author\n",
    "SCott Yao"
   ]
  },
  {
   "cell_type": "code",
   "execution_count": null,
   "id": "ca94cda4-d45a-4d59-9757-03a9506d28e3",
   "metadata": {},
   "outputs": [],
   "source": []
  }
 ],
 "metadata": {
  "kernelspec": {
   "display_name": "Python 3 (ipykernel)",
   "language": "python",
   "name": "python3"
  },
  "language_info": {
   "codemirror_mode": {
    "name": "ipython",
    "version": 3
   },
   "file_extension": ".py",
   "mimetype": "text/x-python",
   "name": "python",
   "nbconvert_exporter": "python",
   "pygments_lexer": "ipython3",
   "version": "3.12.8"
  }
 },
 "nbformat": 4,
 "nbformat_minor": 5
}
